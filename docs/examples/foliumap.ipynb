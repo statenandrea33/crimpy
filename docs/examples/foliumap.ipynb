{
 "cells": [
  {
   "cell_type": "code",
   "execution_count": 1,
   "metadata": {},
   "outputs": [],
   "source": [
    "import folium"
   ]
  },
  {
   "cell_type": "code",
   "execution_count": 2,
   "metadata": {},
   "outputs": [],
   "source": [
    "locations = [\n",
    "    {\n",
    "        'name': 'Location 1',\n",
    "        'latitude': 38.9072,\n",
    "        'longitude': -77.0369\n",
    "    },\n",
    "    {\n",
    "        'name': 'Location 2',\n",
    "        'latitude': 38.9784,\n",
    "        'longitude': -76.4922\n",
    "    },\n",
    "    {\n",
    "        'name': 'Location 3',\n",
    "        'latitude': 39.2904,\n",
    "        'longitude': -76.6122\n",
    "    },\n",
    "    {\n",
    "        'name': 'Location 4',\n",
    "        'latitude': 39.0997,\n",
    "        'longitude': -94.5786\n",
    "    },\n",
    "    {\n",
    "        'name': 'Location 5',\n",
    "        'latitude': 35.2271,\n",
    "        'longitude': -80.8431\n",
    "    }\n",
    "]"
   ]
  },
  {
   "cell_type": "code",
   "execution_count": 3,
   "metadata": {},
   "outputs": [
    {
     "ename": "AttributeError",
     "evalue": "'Map' object has no attribute 'add_locations_to_map'",
     "output_type": "error",
     "traceback": [
      "\u001b[1;31m---------------------------------------------------------------------------\u001b[0m",
      "\u001b[1;31mAttributeError\u001b[0m                            Traceback (most recent call last)",
      "Cell \u001b[1;32mIn[3], line 2\u001b[0m\n\u001b[0;32m      1\u001b[0m m \u001b[39m=\u001b[39m folium\u001b[39m.\u001b[39mMap()\n\u001b[1;32m----> 2\u001b[0m m\u001b[39m.\u001b[39;49madd_locations_to_map(locations)\n\u001b[0;32m      3\u001b[0m m\n",
      "\u001b[1;31mAttributeError\u001b[0m: 'Map' object has no attribute 'add_locations_to_map'"
     ]
    }
   ],
   "source": [
    "m = crimpy.Map(zoom=5)\n",
    "m.add_draw_control()\n",
    "m.add_search_control()\n",
    "m.add_locations_to_map(locations)\n",
    "m"
   ]
  }
 ],
 "metadata": {
  "kernelspec": {
   "display_name": "geos",
   "language": "python",
   "name": "python3"
  },
  "language_info": {
   "codemirror_mode": {
    "name": "ipython",
    "version": 3
   },
   "file_extension": ".py",
   "mimetype": "text/x-python",
   "name": "python",
   "nbconvert_exporter": "python",
   "pygments_lexer": "ipython3",
   "version": "3.9.15"
  },
  "orig_nbformat": 4
 },
 "nbformat": 4,
 "nbformat_minor": 2
}
