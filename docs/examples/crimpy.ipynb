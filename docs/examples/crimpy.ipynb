{
 "cells": [
  {
   "cell_type": "code",
   "execution_count": 1,
   "metadata": {},
   "outputs": [],
   "source": [
    "import crimpy"
   ]
  },
  {
   "cell_type": "code",
   "execution_count": 2,
   "metadata": {},
   "outputs": [
    {
     "ename": "AttributeError",
     "evalue": "module 'crimpy' has no attribute 'Map'",
     "output_type": "error",
     "traceback": [
      "\u001b[1;31m---------------------------------------------------------------------------\u001b[0m",
      "\u001b[1;31mAttributeError\u001b[0m                            Traceback (most recent call last)",
      "Cell \u001b[1;32mIn[2], line 1\u001b[0m\n\u001b[1;32m----> 1\u001b[0m m \u001b[39m=\u001b[39m crimpy\u001b[39m.\u001b[39;49mMap(center\u001b[39m=\u001b[39m[\u001b[39m40\u001b[39m, \u001b[39m-\u001b[39m\u001b[39m100\u001b[39m], zoom\u001b[39m=\u001b[39m\u001b[39m10\u001b[39m)\n\u001b[0;32m      2\u001b[0m m\u001b[39m.\u001b[39madd_draw_control()\n\u001b[0;32m      3\u001b[0m m\u001b[39m.\u001b[39madd_search_control()\n",
      "\u001b[1;31mAttributeError\u001b[0m: module 'crimpy' has no attribute 'Map'"
     ]
    }
   ],
   "source": [
    "m = crimpy.Map(center=[40, -100], zoom=10)\n",
    "m.add_draw_control()\n",
    "m.add_search_control()\n",
    "m"
   ]
  }
 ],
 "metadata": {
  "kernelspec": {
   "display_name": "geos",
   "language": "python",
   "name": "python3"
  },
  "language_info": {
   "codemirror_mode": {
    "name": "ipython",
    "version": 3
   },
   "file_extension": ".py",
   "mimetype": "text/x-python",
   "name": "python",
   "nbconvert_exporter": "python",
   "pygments_lexer": "ipython3",
   "version": "3.9.15"
  },
  "orig_nbformat": 4
 },
 "nbformat": 4,
 "nbformat_minor": 2
}
