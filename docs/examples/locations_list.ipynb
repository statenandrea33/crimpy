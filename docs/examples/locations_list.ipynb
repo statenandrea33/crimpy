{
 "cells": [
  {
   "cell_type": "code",
   "execution_count": null,
   "metadata": {},
   "outputs": [],
   "source": [
    "import crimpy"
   ]
  },
  {
   "cell_type": "code",
   "execution_count": null,
   "metadata": {},
   "outputs": [],
   "source": [
    "locations = [\n",
    "    {\n",
    "        'name': 'Location 1',\n",
    "        'latitude': 38.9072,\n",
    "        'longitude': -77.0369\n",
    "    },\n",
    "    {\n",
    "        'name': 'Location 2',\n",
    "        'latitude': 38.9784,\n",
    "        'longitude': -76.4922\n",
    "    },\n",
    "    {\n",
    "        'name': 'Location 3',\n",
    "        'latitude': 39.2904,\n",
    "        'longitude': -76.6122\n",
    "    },\n",
    "    {\n",
    "        'name': 'Location 4',\n",
    "        'latitude': 39.0997,\n",
    "        'longitude': -94.5786\n",
    "    },\n",
    "    {\n",
    "        'name': 'Location 5',\n",
    "        'latitude': 35.2271,\n",
    "        'longitude': -80.8431\n",
    "    }\n",
    "]\n"
   ]
  },
  {
   "cell_type": "code",
   "execution_count": null,
   "metadata": {},
   "outputs": [],
   "source": [
    "m = crimpy.Map(zoom=5)\n",
    "m.add_draw_control()\n",
    "m.add_search_control()\n",
    "m.add_locations_to_map(locations)\n",
    "m.add_toolbar()\n",
    "m"
   ]
  }
 ],
 "metadata": {
  "kernelspec": {
   "display_name": "geos",
   "language": "python",
   "name": "python3"
  },
  "language_info": {
   "codemirror_mode": {
    "name": "ipython",
    "version": 3
   },
   "file_extension": ".py",
   "mimetype": "text/x-python",
   "name": "python",
   "nbconvert_exporter": "python",
   "pygments_lexer": "ipython3",
   "version": "3.9.15"
  },
  "orig_nbformat": 4,
  "vscode": {
   "interpreter": {
    "hash": "df904d12e3851336b989d934ae293e04c74a4d608e88fc8293019ecd4fb74e22"
   }
  }
 },
 "nbformat": 4,
 "nbformat_minor": 2
}
