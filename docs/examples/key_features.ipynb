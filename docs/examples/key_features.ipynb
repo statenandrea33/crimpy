{
 "cells": [
  {
   "cell_type": "code",
   "execution_count": null,
   "metadata": {},
   "outputs": [],
   "source": [
    "# Key Features/ Functionality"
   ]
  },
  {
   "attachments": {},
   "cell_type": "markdown",
   "metadata": {},
   "source": [
    "This python package is currently capable of taking mulitple locations from a list of coordinates, which is vector data. After it does so it creates a marker on the map and finds the center of all the markers to display them all. "
   ]
  }
 ],
 "metadata": {
  "language_info": {
   "name": "python"
  },
  "orig_nbformat": 4
 },
 "nbformat": 4,
 "nbformat_minor": 2
}
