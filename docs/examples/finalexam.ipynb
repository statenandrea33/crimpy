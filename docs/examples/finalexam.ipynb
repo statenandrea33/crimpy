{
 "cells": [
  {
   "cell_type": "code",
   "execution_count": 1,
   "metadata": {},
   "outputs": [],
   "source": [
    "import crimpy"
   ]
  },
  {
   "cell_type": "code",
   "execution_count": 2,
   "metadata": {},
   "outputs": [
    {
     "ename": "TypeError",
     "evalue": "csv_to_shp() got multiple values for argument 'x'",
     "output_type": "error",
     "traceback": [
      "\u001b[1;31m---------------------------------------------------------------------------\u001b[0m",
      "\u001b[1;31mTypeError\u001b[0m                                 Traceback (most recent call last)",
      "Cell \u001b[1;32mIn[2], line 4\u001b[0m\n\u001b[0;32m      2\u001b[0m in_csv \u001b[39m=\u001b[39m \u001b[39m'\u001b[39m\u001b[39mdata/world_cities.csv\u001b[39m\u001b[39m'\u001b[39m\n\u001b[0;32m      3\u001b[0m out_shp \u001b[39m=\u001b[39m \u001b[39m'\u001b[39m\u001b[39mdata/world_cities.shp\u001b[39m\u001b[39m'\u001b[39m\n\u001b[1;32m----> 4\u001b[0m m\u001b[39m.\u001b[39;49mcsv_to_shp(in_csv, out_shp, x\u001b[39m=\u001b[39;49m \u001b[39m\"\u001b[39;49m\u001b[39mlatitude\u001b[39;49m\u001b[39m\"\u001b[39;49m, y\u001b[39m=\u001b[39;49m \u001b[39m\"\u001b[39;49m\u001b[39mlongitude\u001b[39;49m\u001b[39m\"\u001b[39;49m)\n",
      "\u001b[1;31mTypeError\u001b[0m: csv_to_shp() got multiple values for argument 'x'"
     ]
    }
   ],
   "source": [
    "m = crimpy.Map()\n",
    "in_csv = 'data/world_cities.csv'\n",
    "out_shp = 'data/world_cities.shp'\n",
    "m.csv_to_shp(in_csv, out_shp, x= \"latitude\", y= \"longitude\")"
   ]
  }
 ],
 "metadata": {
  "kernelspec": {
   "display_name": "geos",
   "language": "python",
   "name": "python3"
  },
  "language_info": {
   "codemirror_mode": {
    "name": "ipython",
    "version": 3
   },
   "file_extension": ".py",
   "mimetype": "text/x-python",
   "name": "python",
   "nbconvert_exporter": "python",
   "pygments_lexer": "ipython3",
   "version": "3.9.15"
  },
  "orig_nbformat": 4
 },
 "nbformat": 4,
 "nbformat_minor": 2
}
