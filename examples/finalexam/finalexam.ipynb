{
 "cells": [
  {
   "cell_type": "code",
   "execution_count": 1,
   "metadata": {},
   "outputs": [],
   "source": [
    "import crimpy"
   ]
  },
  {
   "cell_type": "code",
   "execution_count": 6,
   "metadata": {},
   "outputs": [
    {
     "name": "stdout",
     "output_type": "stream",
     "text": [
      "Unexpected exception formatting exception. Falling back to standard exception\n"
     ]
    },
    {
     "name": "stderr",
     "output_type": "stream",
     "text": [
      "Traceback (most recent call last):\n",
      "  File \"c:\\Users\\state\\miniconda3\\envs\\geos\\lib\\site-packages\\IPython\\core\\interactiveshell.py\", line 3442, in run_code\n",
      "    exec(code_obj, self.user_global_ns, self.user_ns)\n",
      "  File \"C:\\Users\\state\\AppData\\Local\\Temp\\ipykernel_17168\\3657509120.py\", line 2, in <module>\n",
      "    m.add_points_from_csv('data/world_cities.csv', 3, 4)\n",
      "  File \"c:\\users\\state\\onedrive\\documents\\crimpy\\crimpy\\crimpy.py\", line 424, in add_points_from_csv\n",
      "TypeError: can only concatenate tuple (not \"Marker\") to tuple\n",
      "\n",
      "During handling of the above exception, another exception occurred:\n",
      "\n",
      "Traceback (most recent call last):\n",
      "  File \"c:\\Users\\state\\miniconda3\\envs\\geos\\lib\\site-packages\\IPython\\core\\interactiveshell.py\", line 2057, in showtraceback\n",
      "    stb = self.InteractiveTB.structured_traceback(\n",
      "  File \"c:\\Users\\state\\miniconda3\\envs\\geos\\lib\\site-packages\\IPython\\core\\ultratb.py\", line 1118, in structured_traceback\n",
      "    return FormattedTB.structured_traceback(\n",
      "  File \"c:\\Users\\state\\miniconda3\\envs\\geos\\lib\\site-packages\\IPython\\core\\ultratb.py\", line 1012, in structured_traceback\n",
      "    return VerboseTB.structured_traceback(\n",
      "  File \"c:\\Users\\state\\miniconda3\\envs\\geos\\lib\\site-packages\\IPython\\core\\ultratb.py\", line 865, in structured_traceback\n",
      "    formatted_exception = self.format_exception_as_a_whole(etype, evalue, etb, number_of_lines_of_context,\n",
      "  File \"c:\\Users\\state\\miniconda3\\envs\\geos\\lib\\site-packages\\IPython\\core\\ultratb.py\", line 818, in format_exception_as_a_whole\n",
      "    frames.append(self.format_record(r))\n",
      "  File \"c:\\Users\\state\\miniconda3\\envs\\geos\\lib\\site-packages\\IPython\\core\\ultratb.py\", line 736, in format_record\n",
      "    result += ''.join(_format_traceback_lines(frame_info.lines, Colors, self.has_colors, lvals))\n",
      "  File \"c:\\Users\\state\\miniconda3\\envs\\geos\\lib\\site-packages\\stack_data\\utils.py\", line 144, in cached_property_wrapper\n",
      "    value = obj.__dict__[self.func.__name__] = self.func(obj)\n",
      "  File \"c:\\Users\\state\\miniconda3\\envs\\geos\\lib\\site-packages\\stack_data\\core.py\", line 734, in lines\n",
      "    pieces = self.included_pieces\n",
      "  File \"c:\\Users\\state\\miniconda3\\envs\\geos\\lib\\site-packages\\stack_data\\utils.py\", line 144, in cached_property_wrapper\n",
      "    value = obj.__dict__[self.func.__name__] = self.func(obj)\n",
      "  File \"c:\\Users\\state\\miniconda3\\envs\\geos\\lib\\site-packages\\stack_data\\core.py\", line 681, in included_pieces\n",
      "    pos = scope_pieces.index(self.executing_piece)\n",
      "  File \"c:\\Users\\state\\miniconda3\\envs\\geos\\lib\\site-packages\\stack_data\\utils.py\", line 144, in cached_property_wrapper\n",
      "    value = obj.__dict__[self.func.__name__] = self.func(obj)\n",
      "  File \"c:\\Users\\state\\miniconda3\\envs\\geos\\lib\\site-packages\\stack_data\\core.py\", line 660, in executing_piece\n",
      "    return only(\n",
      "  File \"c:\\Users\\state\\miniconda3\\envs\\geos\\lib\\site-packages\\executing\\executing.py\", line 190, in only\n",
      "    raise NotOneValueFound('Expected one value, found 0')\n",
      "executing.executing.NotOneValueFound: Expected one value, found 0\n"
     ]
    }
   ],
   "source": [
    "m = crimpy.Map()\n",
    "m.add_points_from_csv('data/world_cities.csv', 3, 4)\n",
    "m"
   ]
  },
  {
   "cell_type": "code",
   "execution_count": 9,
   "metadata": {},
   "outputs": [
    {
     "ename": "TypeError",
     "evalue": "csv_to_shp() takes 2 positional arguments but 3 were given",
     "output_type": "error",
     "traceback": [
      "\u001b[1;31m---------------------------------------------------------------------------\u001b[0m",
      "\u001b[1;31mTypeError\u001b[0m                                 Traceback (most recent call last)",
      "Cell \u001b[1;32mIn[9], line 2\u001b[0m\n\u001b[0;32m      1\u001b[0m m \u001b[39m=\u001b[39m crimpy\u001b[39m.\u001b[39mMap()\n\u001b[1;32m----> 2\u001b[0m m\u001b[39m.\u001b[39;49mcsv_to_shp(\u001b[39m'\u001b[39;49m\u001b[39mdata/world_cities.csv\u001b[39;49m\u001b[39m'\u001b[39;49m,\u001b[39m'\u001b[39;49m\u001b[39mdata/world_cities.shp\u001b[39;49m\u001b[39m'\u001b[39;49m)\n\u001b[0;32m      3\u001b[0m m\n",
      "\u001b[1;31mTypeError\u001b[0m: csv_to_shp() takes 2 positional arguments but 3 were given"
     ]
    }
   ],
   "source": [
    "m = crimpy.Map()\n",
    "m.csv_to_shp('data/world_cities.csv','data/world_cities.shp')\n",
    "m"
   ]
  },
  {
   "cell_type": "code",
   "execution_count": 10,
   "metadata": {},
   "outputs": [
    {
     "ename": "InvalidPathError",
     "evalue": "~/` does not exist",
     "output_type": "error",
     "traceback": [
      "\u001b[1;31m---------------------------------------------------------------------------\u001b[0m",
      "\u001b[1;31mInvalidPathError\u001b[0m                          Traceback (most recent call last)",
      "Cell \u001b[1;32mIn[10], line 2\u001b[0m\n\u001b[0;32m      1\u001b[0m m \u001b[39m=\u001b[39m crimpy\u001b[39m.\u001b[39mMap()\n\u001b[1;32m----> 2\u001b[0m m\u001b[39m.\u001b[39;49mcreate_marker_cluster()\n\u001b[0;32m      3\u001b[0m m\n",
      "File \u001b[1;32mc:\\users\\state\\onedrive\\documents\\crimpy\\crimpy\\crimpy.py:435\u001b[0m, in \u001b[0;36mcreate_marker_cluster\u001b[1;34m(self)\u001b[0m\n\u001b[0;32m    433\u001b[0m file_selector\u001b[39m.\u001b[39mtitle \u001b[39m=\u001b[39m \u001b[39m'\u001b[39m\u001b[39mSelect CSV File\u001b[39m\u001b[39m'\u001b[39m\n\u001b[0;32m    434\u001b[0m file_selector\u001b[39m.\u001b[39mdefault_path \u001b[39m=\u001b[39m \u001b[39m'\u001b[39m\u001b[39m~/\u001b[39m\u001b[39m'\u001b[39m\n\u001b[1;32m--> 435\u001b[0m file_selector\u001b[39m.\u001b[39mfilter_pattern \u001b[39m=\u001b[39m \u001b[39m'\u001b[39m\u001b[39m*.csv\u001b[39m\u001b[39m'\u001b[39m\n\u001b[0;32m    437\u001b[0m \u001b[39m# Display the file selection widget\u001b[39;00m\n\u001b[0;32m    438\u001b[0m display(file_selector)\n",
      "File \u001b[1;32mc:\\Users\\state\\miniconda3\\envs\\geos\\lib\\site-packages\\ipyfilechooser\\filechooser.py:497\u001b[0m, in \u001b[0;36mFileChooser.default_path\u001b[1;34m(self, path)\u001b[0m\n\u001b[0;32m    494\u001b[0m \u001b[39mif\u001b[39;00m \u001b[39mself\u001b[39m\u001b[39m.\u001b[39m_sandbox_path \u001b[39mand\u001b[39;00m \u001b[39mnot\u001b[39;00m has_parent_path(normalize_path(path), \u001b[39mself\u001b[39m\u001b[39m.\u001b[39m_sandbox_path):\n\u001b[0;32m    495\u001b[0m     \u001b[39mraise\u001b[39;00m ParentPathError(path, \u001b[39mself\u001b[39m\u001b[39m.\u001b[39m_sandbox_path)\n\u001b[1;32m--> 497\u001b[0m \u001b[39mself\u001b[39m\u001b[39m.\u001b[39m_default_path \u001b[39m=\u001b[39m normalize_path(path)\n\u001b[0;32m    498\u001b[0m \u001b[39mself\u001b[39m\u001b[39m.\u001b[39m_set_form_values(\u001b[39mself\u001b[39m\u001b[39m.\u001b[39m_default_path, \u001b[39mself\u001b[39m\u001b[39m.\u001b[39m_filename\u001b[39m.\u001b[39mvalue)\n",
      "File \u001b[1;32mc:\\Users\\state\\miniconda3\\envs\\geos\\lib\\site-packages\\ipyfilechooser\\utils.py:137\u001b[0m, in \u001b[0;36mnormalize_path\u001b[1;34m(path)\u001b[0m\n\u001b[0;32m    134\u001b[0m normalized_path \u001b[39m=\u001b[39m os\u001b[39m.\u001b[39mpath\u001b[39m.\u001b[39mrealpath(path)\n\u001b[0;32m    136\u001b[0m \u001b[39mif\u001b[39;00m \u001b[39mnot\u001b[39;00m os\u001b[39m.\u001b[39mpath\u001b[39m.\u001b[39misdir(normalized_path):\n\u001b[1;32m--> 137\u001b[0m     \u001b[39mraise\u001b[39;00m InvalidPathError(path)\n\u001b[0;32m    139\u001b[0m \u001b[39mreturn\u001b[39;00m normalized_path\n",
      "\u001b[1;31mInvalidPathError\u001b[0m: ~/` does not exist"
     ]
    }
   ],
   "source": [
    "m = crimpy.Map()\n",
    "m.create_marker_cluster()\n",
    "m"
   ]
  }
 ],
 "metadata": {
  "kernelspec": {
   "display_name": "geos",
   "language": "python",
   "name": "python3"
  },
  "language_info": {
   "codemirror_mode": {
    "name": "ipython",
    "version": 3
   },
   "file_extension": ".py",
   "mimetype": "text/x-python",
   "name": "python",
   "nbconvert_exporter": "python",
   "pygments_lexer": "ipython3",
   "version": "3.9.15"
  },
  "orig_nbformat": 4
 },
 "nbformat": 4,
 "nbformat_minor": 2
}
